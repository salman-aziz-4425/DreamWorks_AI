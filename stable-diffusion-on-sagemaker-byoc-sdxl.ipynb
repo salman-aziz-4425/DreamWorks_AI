{
 "cells": [
  {
   "cell_type": "markdown",
   "id": "37e6a931",
   "metadata": {},
   "source": [
    "### SageMaker Stable diffusion Quick Kit - Inference 部署(Stable Diffusion XL , SDXL LORA)\n",
    "   [SageMaker Stable Diffusion Quick Kit](https://github.com/aws-samples/sagemaker-stablediffusion-quick-kit) 提供了一组开箱即用的代码、配置文件，它可以帮助客户在亚马逊云上使用Amazon SageMaker , Lambda, Cloudfront快速构建Stable diffusion AI绘图服务.\n",
    "   \n",
    "   ![架构](https://raw.githubusercontent.com/aws-samples/sagemaker-stablediffusion-quick-kit/main/images/architecture.png)\n",
    "\n",
    "\n",
    "#### 前提条件\n",
    "1. 亚马逊云账号\n",
    "2. 建议使用ml.g5.xlarge\n",
    "\n",
    "### Notebook部署步骤\n",
    "1. 升级boto3, sagemaker python sdk\n",
    "2. 编译docker image\n",
    "3. 部署AIGC推理服务\n",
    "    * 配置模型参数\n",
    "    * 配置异步推理\n",
    "    * 部署SageMaker Endpoint \n",
    "4. 测试ControlNet模型\n",
    "5. 清除资源\n"
   ]
  },
  {
   "cell_type": "markdown",
   "id": "54c880c6",
   "metadata": {},
   "source": [
    "### 1. 升级boto3, sagemaker python sdk"
   ]
  },
  {
   "cell_type": "code",
   "execution_count": null,
   "id": "f17e7cdf",
   "metadata": {},
   "outputs": [],
   "source": [
    "!pip install --upgrade boto3 sagemaker"
   ]
  },
  {
   "cell_type": "code",
   "execution_count": null,
   "id": "13486437",
   "metadata": {},
   "outputs": [],
   "source": [
    "#导入对应的库\n",
    "\n",
    "import re\n",
    "import os\n",
    "import json\n",
    "import uuid\n",
    "\n",
    "import numpy as np\n",
    "import pandas as pd\n",
    "from time import gmtime, strftime\n",
    "\n",
    "\n",
    "import boto3\n",
    "import sagemaker\n",
    "\n",
    "from sagemaker import get_execution_role,session\n",
    "\n",
    "role = get_execution_role()\n",
    "\n",
    "\n",
    "sage_session = session.Session()\n",
    "bucket = sage_session.default_bucket()\n",
    "aws_region = boto3.Session().region_name\n",
    "\n",
    "\n",
    "print(f'sagemaker sdk version: {sagemaker.__version__}\\nrole:  {role}  \\nbucket:  {bucket}')\n",
    "\n",
    "\n"
   ]
  },
  {
   "cell_type": "markdown",
   "id": "40088bc5",
   "metadata": {},
   "source": [
    "### 2. 编译docker image (sdxl-inference-v2)"
   ]
  },
  {
   "cell_type": "code",
   "execution_count": null,
   "id": "47a1eac8",
   "metadata": {},
   "outputs": [],
   "source": [
    "!./build_push.sh"
   ]
  },
  {
   "cell_type": "markdown",
   "id": "9083af1b",
   "metadata": {},
   "source": [
    "### 3. 部署AIGC推理服务"
   ]
  },
  {
   "cell_type": "markdown",
   "id": "da982e13",
   "metadata": {},
   "source": [
    "#### 3.1 创建dummy model_data 文件(真正的模型使用code/infernece.py进行加载)"
   ]
  },
  {
   "cell_type": "code",
   "execution_count": null,
   "id": "efbc709d",
   "metadata": {},
   "outputs": [],
   "source": [
    "!touch dummy\n",
    "!tar czvf model.tar.gz dummy sagemaker-logo-small.png\n",
    "assets_dir = 's3://{0}/{1}/assets/'.format(bucket, 'stablediffusion')\n",
    "model_data = 's3://{0}/{1}/assets/model.tar.gz'.format(bucket, 'stablediffusion')\n",
    "!aws s3 cp model.tar.gz $assets_dir\n",
    "!rm -f dummy model.tar.gz"
   ]
  },
  {
   "cell_type": "markdown",
   "id": "f53d36b8",
   "metadata": {},
   "source": [
    "#### 3.2 创建 model 配置"
   ]
  },
  {
   "cell_type": "code",
   "execution_count": null,
   "id": "2d9c3289",
   "metadata": {},
   "outputs": [],
   "source": [
    "\n",
    "boto3_session = boto3.session.Session()\n",
    "current_region=boto3_session.region_name\n",
    "\n",
    "client = boto3.client(\"sts\")\n",
    "account_id=client.get_caller_identity()[\"Account\"]\n",
    "\n",
    "client = boto3.client('sagemaker')\n",
    "\n",
    "#使用步骤2编译好的docker images\n",
    "#默认名字为: sdxl-inference-v2\n",
    "container = f'{account_id}.dkr.ecr.{current_region}.amazonaws.com/sdxl-inference-v2'\n",
    "\n",
    "model_data = f's3://{bucket}/stablediffusion/assets/model.tar.gz'\n",
    "\n",
    "model_name = 'AIGC-Quick-Kit-' +  strftime(\"%Y-%m-%d-%H-%M-%S\", gmtime())\n",
    "role = get_execution_role()\n",
    "\n",
    "primary_container = {\n",
    "    'Image': container,\n",
    "    'ModelDataUrl': model_data,\n",
    "    'Environment':{\n",
    "        's3_bucket': bucket,\n",
    "        'model_name':'stabilityai/stable-diffusion-xl-base-1.0' #使用SDXL 1.0\n",
    "    }\n",
    "}\n",
    "\n",
    "create_model_response = client.create_model(\n",
    "    ModelName = model_name,\n",
    "    ExecutionRoleArn = role,\n",
    "    PrimaryContainer = primary_container,\n",
    "\n",
    "\n",
    ")"
   ]
  },
  {
   "cell_type": "code",
   "execution_count": null,
   "id": "e8f2b4a2",
   "metadata": {},
   "outputs": [],
   "source": [
    "_time_tag = strftime(\"%Y-%m-%d-%H-%M-%S\", gmtime())\n",
    "_variant_name =  'AIGC-Quick-Kit-'+ _time_tag\n",
    "endpoint_config_name = 'AIGC-Quick-Kit-' +  _time_tag\n",
    "\n",
    "response = client.create_endpoint_config(\n",
    "    EndpointConfigName=endpoint_config_name,\n",
    "    ProductionVariants=[\n",
    "        {\n",
    "            'VariantName': _variant_name,\n",
    "            'ModelName': model_name,\n",
    "            'InitialInstanceCount': 1,\n",
    "            'InstanceType': 'ml.g5.2xlarge',\n",
    "            'InitialVariantWeight': 1\n",
    "        },\n",
    "    ]\n",
    "    ,\n",
    "    AsyncInferenceConfig={\n",
    "        'OutputConfig': {\n",
    "            'S3OutputPath': f's3://{bucket}/stablediffusion/asyncinvoke/out/'\n",
    "        }\n",
    "    }\n",
    ")"
   ]
  },
  {
   "cell_type": "markdown",
   "id": "dbc23af4",
   "metadata": {},
   "source": [
    "#### 3.3 部署SageMaker endpoint (这里只需要运行一次!!!)"
   ]
  },
  {
   "cell_type": "code",
   "execution_count": null,
   "id": "f3d7ad93",
   "metadata": {},
   "outputs": [],
   "source": [
    "endpoint_name = f'AIGC-Quick-Kit-{str(uuid.uuid4())}'\n",
    "\n",
    "print(f'终端节点:{endpoint_name} 正在创建中，首次启动中会加载模型，请耐心等待, 请在控制台上查看状态')\n",
    "\n",
    "response = client.create_endpoint(\n",
    "    EndpointName=endpoint_name,\n",
    "    EndpointConfigName=endpoint_config_name,\n",
    ")\n",
    "\n"
   ]
  },
  {
   "cell_type": "markdown",
   "id": "b485252e",
   "metadata": {},
   "source": [
    "### 4.测试"
   ]
  },
  {
   "cell_type": "markdown",
   "id": "5ddae3ce",
   "metadata": {},
   "source": [
    "#### 4.1 创建测试辅助方法 "
   ]
  },
  {
   "cell_type": "code",
   "execution_count": null,
   "id": "a3033c23",
   "metadata": {},
   "outputs": [],
   "source": [
    "import time\n",
    "import uuid\n",
    "import io\n",
    "import traceback\n",
    "from PIL import Image\n",
    "\n",
    "\n",
    "s3_resource = boto3.resource('s3')\n",
    "\n",
    "def get_bucket_and_key(s3uri):\n",
    "    pos = s3uri.find('/', 5)\n",
    "    bucket = s3uri[5 : pos]\n",
    "    key = s3uri[pos + 1 : ]\n",
    "    return bucket, key\n",
    "\n",
    "\n",
    "def predict_async(endpoint_name,payload):\n",
    "    runtime_client = boto3.client('runtime.sagemaker')\n",
    "    input_file=str(uuid.uuid4())+\".json\"\n",
    "    s3_resource = boto3.resource('s3')\n",
    "    s3_object = s3_resource.Object(bucket, f'stablediffusion/asyncinvoke/input/{input_file}')\n",
    "    payload_data = json.dumps(payload).encode('utf-8')\n",
    "    s3_object.put( Body=bytes(payload_data))\n",
    "    input_location=f's3://{bucket}/stablediffusion/asyncinvoke/input/{input_file}'\n",
    "    print(f'input_location: {input_location}')\n",
    "    response = runtime_client.invoke_endpoint_async(\n",
    "        EndpointName=endpoint_name,\n",
    "        InputLocation=input_location\n",
    "    )\n",
    "    result =response.get(\"OutputLocation\",'')\n",
    "    wait_async_result(result)\n",
    "\n",
    "\n",
    "def s3_object_exists(s3_path):\n",
    "    \"\"\"\n",
    "    s3_object_exists\n",
    "    \"\"\"\n",
    "    try:\n",
    "        s3 = boto3.client('s3')\n",
    "        base_name=os.path.basename(s3_path)\n",
    "        _,ext_name=os.path.splitext(base_name)\n",
    "        bucket,key=get_bucket_and_key(s3_path)\n",
    "        \n",
    "        s3.head_object(Bucket=bucket, Key=key)\n",
    "        return True\n",
    "    except Exception as ex:\n",
    "        print(\"job is not completed, waiting...\")   \n",
    "        return False\n",
    "    \n",
    "def draw_image(output_location):\n",
    "    try:\n",
    "        bucket, key = get_bucket_and_key(output_location)\n",
    "        obj = s3_resource.Object(bucket, key)\n",
    "        body = obj.get()['Body'].read().decode('utf-8') \n",
    "        predictions = json.loads(body)\n",
    "        print(predictions['result'])\n",
    "        for image in predictions['result']:\n",
    "            bucket, key = get_bucket_and_key(image)\n",
    "            obj = s3_resource.Object(bucket, key)\n",
    "            bytes = obj.get()['Body'].read()\n",
    "            image = Image.open(io.BytesIO(bytes))\n",
    "            #resize image to 50% size\n",
    "            half = 0.5\n",
    "            out_image = image.resize( [int(half * s) for s in image.size] )\n",
    "            out_image.show()\n",
    "    except Exception as e:\n",
    "        print(\"result is not completed, waiting...\")   \n",
    "    \n",
    "\n",
    "    \n",
    "def wait_async_result(output_location,timeout=60):\n",
    "    current_time=0\n",
    "    while current_time<timeout:\n",
    "        if s3_object_exists(output_location):\n",
    "            print(\"have async result\")\n",
    "            draw_image(output_location)\n",
    "            break\n",
    "        else:\n",
    "            time.sleep(5)\n",
    "\n",
    "            \n",
    "        \n",
    "def check_sendpoint_status(endpoint_name,timeout=600):\n",
    "    client = boto3.client('sagemaker')\n",
    "    current_time=0\n",
    "    while current_time<timeout:\n",
    "        client = boto3.client('sagemaker')\n",
    "        try:\n",
    "            response = client.describe_endpoint(\n",
    "            EndpointName=endpoint_name\n",
    "            )\n",
    "            if response['EndpointStatus'] !='InService':\n",
    "                raise Exception (f'{endpoint_name} not ready , please wait....')\n",
    "        except Exception as ex:\n",
    "            print(f'{endpoint_name} not ready , please wait....')\n",
    "            time.sleep(10)\n",
    "        else:\n",
    "            status = response['EndpointStatus']\n",
    "            print(f'{endpoint_name} is ready, status: {status}')\n",
    "            break\n",
    "        "
   ]
  },
  {
   "cell_type": "markdown",
   "id": "2ddc1b48",
   "metadata": {},
   "source": [
    "#### 检查endpoint 状态"
   ]
  },
  {
   "cell_type": "code",
   "execution_count": null,
   "id": "d217375b",
   "metadata": {},
   "outputs": [],
   "source": [
    "endpoint_name=\"AIGC-Quick-Kit-73cfda6e-7afa-4aee-997e-bd56d9c4941e\"\n",
    "check_sendpoint_status(endpoint_name)"
   ]
  },
  {
   "cell_type": "markdown",
   "id": "ab7868e7",
   "metadata": {},
   "source": [
    "### 4.1 测试 SDXL with out refiner\n",
    "首次执行的时候SageMaker会从HaggingFace拉取stabilityai/stable-diffusion-xl-base-1.0 模型，需要稍微等待一下\n"
   ]
  },
  {
   "cell_type": "code",
   "execution_count": null,
   "id": "33bdf2e8",
   "metadata": {},
   "outputs": [],
   "source": [
    "\n",
    "payload={\n",
    "    \"prompt\": \"a fantasy creaturefractal dragon\",\n",
    "    \"steps\":20,\n",
    "    \"sampler\":\"euler_a\",\n",
    "    \"count\":1\n",
    "  }\n",
    "\n",
    "predict_async(endpoint_name,payload)\n"
   ]
  },
  {
   "cell_type": "markdown",
   "id": "a21e515e",
   "metadata": {},
   "source": [
    "### 4.2 测试SDXL with refiner\n",
    "首次执行的时候SageMaker会从HaggingFace拉取stabilityai/stable-diffusion-xl-refiner-1.0 模型，需要稍微等待一下\n",
    "\n",
    "SDXL_REFINER设置为enable\n"
   ]
  },
  {
   "cell_type": "code",
   "execution_count": null,
   "id": "c1a89797",
   "metadata": {},
   "outputs": [],
   "source": [
    "payload={\n",
    "                    \"prompt\": \"a fantasy creaturefractal dragon\",\n",
    "                    \"steps\":20,\n",
    "                    \"sampler\":\"euler_a\",\n",
    "                    \"count\":1,\n",
    "                    \"sdxl_refiner\":\"enable\"\n",
    "}\n",
    "\n",
    "predict_async(endpoint_name,payload)"
   ]
  },
  {
   "cell_type": "markdown",
   "id": "0114161e",
   "metadata": {},
   "source": [
    "### 4.3 测试SDXL with Kohya-style LORA"
   ]
  },
  {
   "cell_type": "code",
   "execution_count": null,
   "id": "9d6b796c",
   "metadata": {},
   "outputs": [],
   "source": [
    "payload={\n",
    "                    \"prompt\": \"a fantasy creaturefractal dragon\",\n",
    "                    \"steps\":20,\n",
    "                    \"sampler\":\"euler_a\",\n",
    "                    \"count\":1,\n",
    "                    \"control_net_enable\":\"disable\",\n",
    "                     \"sdxl_refiner\":\"enable\",\n",
    "                     \"lora_name\":\"dragon\",\n",
    "                    \"lora_url\":\"https://civitai.com/api/download/models/129363\"\n",
    "}\n",
    "\n",
    "predict_async(endpoint_name,payload)"
   ]
  },
  {
   "cell_type": "markdown",
   "id": "b6b77020",
   "metadata": {},
   "source": [
    "### 4.4 测试SDXL with controlnet"
   ]
  },
  {
   "cell_type": "markdown",
   "id": "b57ecef9",
   "metadata": {},
   "source": [
    "我们使用 HuggingFace的2个Controlnet来进行测试, Canny(diffusers/controlnet-canny-sdxl-1.0-small), Depth(diffusers/controlnet-depth-sdxl-1.0-small)。\n",
    "\n",
    "\n",
    "首先测试Canny"
   ]
  },
  {
   "cell_type": "code",
   "execution_count": null,
   "id": "b2febf23",
   "metadata": {},
   "outputs": [],
   "source": [
    "payload={\n",
    "    \"prompt\": \"aerial view, a futuristic research complex in a bright foggy jungle, hard lighting\",\n",
    "    \"steps\":20,\n",
    "    \"sampler\":\"euler_a\",\n",
    "    \"count\":1,\n",
    "    \"control_net_enable\":\"enable\",\n",
    "    \"sdxl_refiner\":\"enable\",\n",
    "    \"control_net_model\":\"canny\",\n",
    "    \"input_image\":\"https://huggingface.co/datasets/hf-internal-testing/diffusers-images/resolve/main/sd_controlnet/hf-logo.png\"\n",
    "  }\n",
    "\n",
    "\n",
    "predict_async(endpoint_name,payload)"
   ]
  },
  {
   "cell_type": "markdown",
   "id": "064e8eb4",
   "metadata": {},
   "source": [
    "SDXL Depth测试"
   ]
  },
  {
   "cell_type": "code",
   "execution_count": null,
   "id": "fc44e3cd",
   "metadata": {},
   "outputs": [],
   "source": [
    "payload={\n",
    "    \"prompt\": \"stormtrooper lecture, photorealistic\",\n",
    "    \"steps\":20,\n",
    "    \"sampler\":\"euler_a\",\n",
    "    \"count\":1,\n",
    "    \"control_net_enable\":\"enable\",\n",
    "    \"sdxl_refiner\":\"enable\",\n",
    "    \"control_net_model\":\"depth\",\n",
    "    \"input_image\":\"https://huggingface.co/lllyasviel/sd-controlnet-depth/resolve/main/images/stormtrooper.png\"\n",
    "  }\n",
    "\n",
    "\n",
    "\n",
    "predict_async(endpoint_name,payload)"
   ]
  },
  {
   "cell_type": "markdown",
   "id": "c7ac47b8",
   "metadata": {},
   "source": [
    "### 5 清除资源"
   ]
  },
  {
   "cell_type": "code",
   "execution_count": null,
   "id": "e29d998d",
   "metadata": {},
   "outputs": [],
   "source": [
    "response = client.delete_endpoint(\n",
    "    EndpointName=endpoint_name\n",
    "    \n",
    ")\n",
    "\n",
    "response = client.delete_endpoint_config(\n",
    "    EndpointConfigName=endpoint_config_name\n",
    ")\n",
    "\n",
    "\n",
    "print(f'终端节点:{endpoint_name} 已经被清除，请在控制台上查看状态')\n"
   ]
  },
  {
   "cell_type": "code",
   "execution_count": null,
   "id": "220bad7e",
   "metadata": {},
   "outputs": [],
   "source": []
  }
 ],
 "metadata": {
  "kernelspec": {
   "display_name": "conda_python3",
   "language": "python",
   "name": "conda_python3"
  },
  "language_info": {
   "codemirror_mode": {
    "name": "ipython",
    "version": 3
   },
   "file_extension": ".py",
   "mimetype": "text/x-python",
   "name": "python",
   "nbconvert_exporter": "python",
   "pygments_lexer": "ipython3",
   "version": "3.10.12"
  }
 },
 "nbformat": 4,
 "nbformat_minor": 5
}
